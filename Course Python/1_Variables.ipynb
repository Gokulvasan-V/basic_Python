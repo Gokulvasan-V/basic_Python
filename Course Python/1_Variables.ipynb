{
  "nbformat": 4,
  "nbformat_minor": 0,
  "metadata": {
    "colab": {
      "provenance": [],
      "authorship_tag": "ABX9TyNnZa+ZrENzCyLOt/BgZ2bt",
      "include_colab_link": true
    },
    "kernelspec": {
      "name": "python3",
      "display_name": "Python 3"
    },
    "language_info": {
      "name": "python"
    }
  },
  "cells": [
    {
      "cell_type": "markdown",
      "metadata": {
        "id": "view-in-github",
        "colab_type": "text"
      },
      "source": [
        "<a href=\"https://colab.research.google.com/github/Gokulvasan-V/basic_Python/blob/master/Course%20Python/1_Variables.ipynb\" target=\"_parent\"><img src=\"https://colab.research.google.com/assets/colab-badge.svg\" alt=\"Open In Colab\"/></a>"
      ]
    },
    {
      "cell_type": "markdown",
      "source": [
        "![image.png](data:image/png;base64,iVBORw0KGgoAAAANSUhEUgAAAjQAAADqCAIAAAA6QkgiAAAgAElEQVR4Ae2dzasdx5mHJWSMhYXHwmgwaHEXgWwuBK6+LjGOQTAmSAYhMxEjYyVOuMKMwBffCTIhIDELgwKCAYMHC0YB44UDAyYLbQJ3ITQSzGbIMAtbxOusJKHFzD9whqrqj/rq6uo+Xd11Tj8XYffprq5663nfen9d1X36HNjY3OYfBCAAAQhAICsCB7KyBmMgAAEIQAACG5vbiBMTRwhAAAIQyI4A4pSdS7hoggAEIAABxAlxggAEIACB7AggTtm5hCsmCEAAAhBAnBAnCEAAAhDIjgDilJ1LuGKCAAQgAAHECXGCAAQgAIHsCCBO2bmEKyYIQAACEECcEKdGAl88XiwWz/Z3GwswfiAAAQgkIoA4rXzmlRKy+Pbu8B1BnBKNOqqFAARaCSBOw+f0VuhDFth9+GQh/x5/NWS183rj4lffLhZP7n+yngBlhKS4dllPXPOK/KyzH+KUtXtax//V+88Wi+/3xX9Zf+vtSsSpNzpOhEAqAohTKrKtujJEgU/2ny4Wj7/akFfHa3vtn/xiFnFa6VGA8etJAHFaZb/e/X6xUHebpEo9fXjVl8fl7Eqt/S0WTpnAUTUt+8KqUzZaVlf/v1w4EpYomVQ3w1QJVzhF5coYvcJ6cVL2qKj+e9sGZVK1pKmK1ecWPvU3oROwagg3V3MQYqb9uXPWGkIAb3V1ooPyzYBFcxJv3W5Je3tDp7cw/WsdUhbr3d/cNsxbyAudupsSo6hE8q9ra3CHdSIfIbAcAcRphcVJJLUq14jc4WbJbZn46mwikpGWxMNHZeaqz93YVLXVrajUZgqPyssPRfquGlIaUH2UISvOffpwX+9CVUxuVPnXMlLldNV0VWZjU4mZYW3dhEqvol1PsY3NDjMnp90iv/sgfCXmtZWDmpvWyhRiY9Ymxem+uLmo9bfsi0HV1zsTZqWIqtdG05JDIUVVWpHiJNeNDbZaPSs8guhFzgQQp9UdWlZKlZfVRqraVst9ZkbT+tuYtooyMhFrKclX3lEOlR/t5wtkVbWqbVTX7HXuFo2q1O+orNXTpn7JpjUCRW1mE74lUKf+KjVbGz4Cpdl67/wQXBUU9CzzNpU+6bVJz9rKpPlRN9K10N0jy/ubVvqkMSxnZloY6M2xDYFkBBCnhkGejPhQlypuund0oimJl11uSFuVhbIJLSt5J2f2TlshitqctuzKFXCnmDrdyqTWxyaD/U2oGYyef6NnTk3tFrOQus4GCMXUs0Ta0FlHw6Q4uRrmD1FHaL2teHfKCu24Ev61LzUq4GxAIB0BxKnM1P6hnu1RX/rzZBx1Ca9fhus9Ch9V85gykxbTmvpjEZSR4uQIgF85PF0QBpuqIMw2F77KTpnG+Juwa9t2xKCszQ4JJ+9rBVwL61VNrZiR+oW1Dk9R2HJuqF0nNTiFfUibyIjarPImUqe5Jlbsh8CyBBCnZQlOM1ytDFKkP5nU7Etska3Un299L3TUTmG+Rs2k7CbWCq+dNO3KVRd8TTjiVNtc9kz/f63E/iYmFSe5SlZYKM3TLTe363mYjc4MOQ8NQ7l9SJvIIE4m2yp62ZiAAOI0AfTlB0Awr9XZWWtITZKaXkfkP+qmMCFF2mMXygxT86yr/gqvnWHdyj2ZsZxzmBJoV6V1s2pObPibyEucvDMnoxeBiZ2PvwMHcSqjqClO2J8nAcTJSgQr8VFeLNdX1rrNTm4yRqYSoaaEaB+1k7ta4bkvbkKUf64QjiBOTU3oHMS2bX+JwpS68Zf1Sv6xK2YNPvWpjkfJfMWayIgkZZWPNdKGn2e+w6oVIoA4reCgCuYLObkp01+ZjuuIDJ6rLzq5yd3J6V50TcphZ1h/frQyY2m/1bT1se5dWV7t8TfRf+Yku2avmioIVu+aIJg3zxo663THqrzE7nelU9jbijjXejC9qNaG5m+ltMEE7lhOMQj0J4A49Wc31VBsSc3NeUcYHM415lErT4l2tTW9hu435WU7aVqVF7V5M6krJ+E+lhnT34Rbm/OwRkPXii8hmcuYIn6chiQE9yE32TvthlBA7fSwtNEV5vkgSEvMp0X8SJuadtoyQ6KRTMmcAhAYigDipGeBVdi2E5xrcy0PtozJc6unyMJHPTlXnV6u6FX/N5N13boZo3bWcxK67Ig/k5oTDpkHVRYON+1vwiNO6svFzdNNLfNKhTbmHI2WPH0m3slbr74KAs63mnw7bT2w0ZVgJWrteT919fDEfpSxQYeUN42JYIwxbryxBwJJCCBOSbCW6WP4ypsSrt6iXkYl0wYhUUm5OmjkXI84yRmGqQfFLQotBY8kTqK/jlhatukcdD62KgvtUYleoWhTKatdI78rj9cQdP7anMkIDL2MsMCusEmcLLOVEIqmnYak6qjOmZVbTVsABTRbKQ3LdapsQ2BYAogTgy2SQJ1w7RAkf2lTKwmnmZVdMhI+xSAwOwKI0+xcbktLZLpsWHATtSFONkPEiWEFgWUJIE7LEuyZ6+10lr8ZjYtLTatnsyHj+g5xcpmwBwLdCCBO3XjNOOEWN6is+xnqpoXnXsXqqe+AkYA4DQiTqmZKAHGaqeN7qqz1LIDn7j08y+cU6uf0YAIBCHQmgDh1RtYzrc96JgFkCEAAAt0IIE7deKFMEIAABCAwAgHECXGCAAQgAIHsCCBO2blkhEsSmoAABCCQOQHECXGCAAQgAIHsCCBO2bkk88sZzIMABCAwAgHECXGCAAQgAIHsCCBO2blkhEsSmvjJzi0gQAACORNAnBCnORJ4/+53OQ9LbIMABBCnOaZm4h5xIgYgkDkBxAlxmiMBxCnzxIR5EECc5piaiXvEiRiAQOYEECfEaY4EEKfMExPmQQBxmmNqJu4RJ2IAApkTQJwQpzkSQJwyT0yYBwHEaY6pmbhHnIgBCGROAHFCnOZIAHHKPDFhHgQQpzmmZuIecSIGIJA5AcQJcZojAcQp88SEeRBAnOaYmol7xIkYgEDmBBAnxGmOBBCnzBMT5kEAcZpjaibuESdiAAKZE0CcEKc5EkCcMk9MmAcBxGmOqZm4R5yIAQhkTgBxQpzmSABxyjwxYR4EEKc5pmbiHnEiBiCQOQHECXGaIwHEKfPEhHkQQJzmmJqJe8SJGIBA5gQQJ8RpjgQQp8wTE+ZBAHGaY2om7hEnYgACmRNAnBCnORJAnDJPTJgHAcRpjqmZuEeciAEIZE4AcUKc5kgAcco8MWEeBBCnOaZm4h5xIgYgkDkBxAlxmiMBxCnzxIR5EECc5piaiXvEiRiAQOYEECfEaY4EEKfMExPmQQBxmmNqJu4RJ2IAApkTQJwQpzkSQJwyT0yYBwHEaY6pmbhHnIgBCGROAHFCnOZIAHHKPDFhHgQQpzmmZuIecSIGIJA5AcQJcZojAcQp88SEeRBAnOaYmol7xIkYgEDmBBAnxGmOBBCnzBMT5kFg3cXp7veLxbP93db8+9W3i8WT+58QEDMhgDilcPTV+88Wi++/2GwdbvkW+OLxYvH04dVV7kIKzw5QZ2wqrmNjdcRJ9K27fsQSQZzqmBggELMf24hTCi8jTimodqlT5LFMxTU2FdeJaFlxkuEYnpp8sv90CF6IU/YZv8soqkNwkrMQJ4ld5rLHX4VcIMfdt3ej/IU4hUiOMX4RJ4NyW3zvPnzSY8ZjNBE1MPxhESvXohcs6/kZDuWLnOpBnJSvWy8uxTJX9Erd+OI0eIss66VKArGpuM72y86cNja3w+HbGv2pWKhUGEsEcapjIq1H8pAoxKnwcsu1Y9ulp+nNwaWiNRQHbxFxamXes0BsKq4T0QDitCFaXTRM/OWaXnjdwIzvnj1vqiSWCOJUx8TALmhyzaT7EafSy8FV99jhUwTP4FJRGtkYnIO3iDi1Mu9ZoGMsbWxuDyFOm82XV/K6TNMtWXJR/bk3q0QBWb4uWZxuVyXjVepiVZ3nTmBNpK7Q9/yeOOpZ1jPr9xSwM6wY6qqYnFAWpvlPNCt3jRcDTz04pJeslV6mlaKFhkekJLSaT31u42jvGXk2h9zrR5wqR8v87o5E4UErU8uSdTQtnHBypKJhWHnH8ua2Vb+WNzzhpI+vyiZroFllrKMVAX2j7rI+6Jqe39PLeBOIb1xEWKUPbTcvBY7KQ45frBZLXGXSEO5QARBOksoLRuuNS74GGdmQ2OMPM52/vj2IOKmoKruq+UMPVn1bWaBi0QxBQefb++I2lbl/e8MOaNcNippphiJy35zbSXBmpHpGkfSoTlN6rilMi14LG57cfyiemalCRClE9VGUjDJe8Hn6cF9/trWqyqQhTTU7Xg51DaOPj+YsPSzWfhtx0lzsCX55VN+vb6sk5RkOzhh3z5LnmtEr23KCswr1YIg6LZYy5p6u9rSM30KPxaDT7rQ5qUC04uz0ANEgN3TctdO+1hdktFEsW6mTiXVUYqyPbm+o2upeK856WlOp9dm+mSR9yblIwnVm8yQZ0U15bt1EUdXjicRJKYeZ7ksuBqkydLRUrne1QOkq06YrTlZVDb4vBNybuPWdzijy67xTzB45yvf2xY7lLTtkVSUyTLUoLC8k68CqHL9wrkEcw5za6hQQ8oiPqt3HdSiDOOlB2HxxU6cYvXyx7YwRGefBYRUKdf3EhuHshKLTogpON0fXFTppyohniUK7sixadCp0+i6ZOMPQMdjFaHXB+miVDx91r3p95YWRRtZVAmlPa2SXjeTjQJC9s5vwZp4iDwfDyWE1zMypgGL0ZFvei2qxRoSCcZYEZ+wpQ8fbZ7s/TnD4Y8iVOutEvxvchQ4rdNzgKAr0Mt72uupsQ1UWSetjZae/ThtjyXx99yNOVUiIDZk79AujxkjWQ8IJRSe6rGFVxpV9YkMxzwJDWUNphtOiLNA06tue3goMcLOh3vnBtr+EX+dJsyG7fPio6zVvHrB32u4oGrXbaqJqnm5Xbniq7qYRfmUZa+dQ4mRP5QJu1i1wetIUpq6c2G6T1TqnNwG1587WieKjOVYbHGZjbYpaq/4o4+3gUG2ZoVDBNEkKM/xXiI1AvCat7U7EqYqcauC4V9PeIVCf6ISiE7ENYW+dKD7605YZ1Z5odFoUZUJntcV/47nixCon9M4Pni7YF/ESjnnJrp0VPmrLuT8d2X203FHlNJOVQO2dNshcWmYbf4siZsza6iiqmnM2BhMnZ2XPH5eCi/VndNh/luiJn6Aob/2VmKRHG4lYEM12VQRY9dYfnfWHGqtVbRVVZv1F+RbjvQOvgYM1ID011+Y3JIKYcFmbMoiT5Uo5MOvADsSeFkhiUxcw5yxv2DtjWeZ9q9r6o5EfqgFVbDgtiv128q2HZ3uKbDxXzz/984M029NfU5vrArVHan+Fjtr5x8fHcYretWZWntRdO6m6FHYqryoUZpvdrA41bAwnTlZMuKYoj5o3PJxQaO6bQ1ByN8aGumU1lDjpo66OjAaOZQE7OMr9dr9ijPcFljOwS3tMknZzpRn22J7tfsTJdr0xvjxhLHOTmVyMU0RoORHbEIfWiW6uKKPaNtLZ77Q4njj1zw/aoxaig03dl5RE/vfKs/+o6zjhAq0GWcAywHJHBdk0zMwwTZmkweOBblbNORtDipO+ci16YuiQS80bRs19swhaH4uOOaebfLVYt0qGPzZ5wt3v76atmnHGewde3MypyQzX4JnuQZy0saBiQMaMyoMiPk0d8o4jJ4ydiLWGVRls1onWRydJOaaW9XjkUBwKpVFvR7QWG881Tmzol1aP12aHj+yIUXPdtaIGCcfMpVoZ+6g98FV35MOH5TTHlbom/qZhfuPtLtsG1BzM2ur9dg117wYVp+pGjqe3fnc6oeAvJnpi1envqnO6v5hTm7Fs6n3Uu0YWxNrkG9Mwv1VmmYaBZ3MoXWuRtD4GbY7s2loVQ5zckJDZR2iSGzz+xGQNSU/ENgwH+0Q78l3bmvZ4Das64p7lds0q01TAbKihX+VgtOqsPvor92eDerj5zyrbMo9ahsWBtd1RNm0ZZn0sDah6pzZMe8qqitgwr3gaaqgqHFacZFgvvt/3vDlfYLL1X0LRppzF0+fGulzVAYugIGWt6RXPXhuny2L6VxZqgsbc1vZiIL4rdr4NKzgq35j1xxlvjoeyKotDyceOCV8TPoPLast6ZlIGcfI4WoaW+paeMYgaMosIOXMMuhEry1g3TmQqME/0FYuKTLdF2S9ftnEvcH0xrzplZ6rqsrs8pV9+8HVTZgxrnlq2onwkznKnO2UZ86iVfySH5nOLGGhIKc56YwPV0pKiNm/mKfLwpOKkrutFzBpreiLOpDs1OZHmPnlqPQEi+m8NjAaCyql13EvHP3tiPaUmWlFiWXOxLRFwPe2qCs3fgvIUK8wrPGQFRzXArBOjjPcPvIZIMmPUB1xY2GReZedcNhAnM24Lv8uYd79FV35nsU5zMpCePrO+LO+JWBmudTbQ9M+8Z2OPCGFeQ6gblhcVOr/EprKhnoUsS6yUWn4UBB4/NH9IwWebWjy0RcUa5s5osm0Q5RcCY5Wd7BrMZBU+6hng6vRyRa/6f502Q5wFw8ow2RfbfrHTdbqVOWUB9SVfs7aSueFQbefAM6ci/VldKtszSQlAYk8d8X6RKEyXXHwBXRIXgSjCyNA2KU7i189UsBZlTd8I82yvF40aZ3kHrRV/Mo71IVH03a1fRXzIeNfrgUhyxakqXLYh/m8CtIyf0UfEqYjwcmwaAe8J4FKfymCSo0xEtR5R/ohV047iRDX07BNV62Z+MN7R4LdWGa8NUmPsq0ux0mA7z1odLz9KcRK/ISIzbHmyH4iVVWLyQ6G4Zb2SnshsetYWcLQ/K1mFjzr5p0qAZQdLOdEc50mtMhWIc3XDVH4wE5dvHlI1UfRC0fPXFso5g4tTqLFQhGnsKAaB1AQQp9SEqX96Ak2qE35mJJtUjDihpnMkgDhNnzqzSYLriqJhIivGu3+hJTOPIE5zTM3rOhrj+4U4xbOi5KoSaFxJc1b/MpMlBRxxQpzmSABxWtWEm2UazRWmukFl3TdSO61bWTkmAcQpR6/kGuvrwwpxIsZmQsB5zMR8ZCxjsUec1ifhzmSwDdJNxGkQjFQCgXQEECfEaY4EEKd0OYWaITAIAcRpjql5kNBZ6UoQp5V2H8bPgQDihDjNkQDiNIfsRh9XmgDiNMfUvNIhO4jxiNMgGKkEAukIIE6I0xwJIE7pcgo1Q2AQAojTHFPzIKGz0pUgTivtPoyfAwHEaRpx+snOrTmEV7Z9RJyydQ2GQUARQJymESeS47QjEP7T8qd1CLQSQJwQp2kItIZm0gKIU1K8VA6B5QkgTtOkZpLj8rG7TA3wX4Ye50JgBAKIE+I0DYERgjvQBOIUgJPhIe7RZuiU1CYhTtOkZpJj6sgO1w//MJ/cjuKv3Dwygj2IE+I0DYERgjvQBMkuACfDQ/grQ6ekNglxmiY1M9hSR3a4fviH+eR2FH/l5pER7EGcEKdpCIwQ3IEmSHYBOBkewl8ZOiW1SYjTNKmZwZY6ssP1wz/MJ7ej+Cs3j4xgD+KEOE1DYITgDjRBsgvAyfAQ/srQKalNQpymSc0MttSRHa4f/mE+uR3FX7l5ZAR7ECfEaRoCIwR3oAmSXQBOhofwV4ZOSW0S4jRNamawpY7scP3wD/PJ7Sj+ys0jI9iDOCFO0xAYIbgDTZDsAnAyPIS/MnRKapMQp2lSM4MtdWSH64d/mE9uR/FXbh4ZwR7ECXGahsAIwR1ogmQXgJPhIfyVoVNSm4Q4TZOaGWypIztcP/zDfHI7ir9y88gI9iBOiNM0BEYI7kATJLsAnAwP4a8MnZLaJMRpmtTMYEsd2eH64R/mk9tR/JWbR0awB3FCnKYhMEJwB5og2QXgZHgIf2XolNQmIU7TpGYGW+rIDtcP/zCf3I7ir9w8MoI9iBPiNA2BEYI70ATJLgAnw0P4K0OnpDYJcZomNTPYUkd2uH74h/nkdhR/5eaREexBnBCnaQiMENyBJkh2ATgZHsJfGToltUmI0zSpmcGWOrLD9cM/zCe3o/grN4+MYA/ihDhNQ2CE4A40QbILwMnwEP7K0CmpTUKcxkvNP/zxO9W/9+9+V23/4MTZ1G6mfosAyc4CkvlH/JW5g1KYhziNJ06nL/36/bvfuf9+snMrhWupM0CAZBeAk+Eh/JWhU1KbhDiNJ04bm9t//y//YYnTP/zrfzFzSh3lbv0kO5dJznvwV87eSWQb4jSqOLmTJ6ZNiSI7XC3JLswnt6P4KzePjGAP4jSqOFmTJ6ZNI4S4twmSnRdLVjurm7I//PE73KPNyjXjGIM4jS1O+uSJadM4Ue62gji5THLbo48UfTGcUZObpxLZgziNLU7V5IlpU6KYjqkWcYqhNHkZ7tFO7oIJDUCcJhAndUnIBeCEcY84TQg/vml38sSoiae36iURpwnEaWNz++KtP/GQ3oSDB3GaEH6npvXJE4sNndCtemHEaRpxQpmmHTmI07T841vXJ09Mm+K5rUFJxGkacVqD0FnpLiBOK+Q+NXli2rRCLhvEVMQJcZojAcRpkPQxTiXcox2Hc26tIE5zTM25ReH49iBO4zNfpkXu0S5Db0XPRZwQpzkSQJxWK2Fxj3a1/DWItYjTHFPzIKGz0pUgTivtPoyfAwHECXGaIwHEaQ7ZjT6uNAHEaY6peaVDdhDjEadBMFIJBNIRQJwQpzkSQJzS5RRqhsAgBBCnOabmQUJnpStBnFbafRg/BwKIE+I0RwKI0xyyG31caQKI0xxT80qH7CDGI06DYKQSCKQjgDghTnMkgDilyynUDIFBCCBOc0zNg4TOylXyo5/+4vSlX6t/79/9rtr+0U9/sXJ9wWAIrD0BxAlxmguBExf+Uf9B1Wr79KVfr/04p4MQWDkCiNNcUvPKhWYKgy/e+lOlSWrj4q0/pWiIOiEAgSUJIE6I04wIuJMnpk1LZpDMT3/t7Y+OXLr90gdfvrjz9YG9B/q/Fz785sWdr49cun30/PXjp85l3pEZmoc49UnNNy6eerR74vnNLfffX66feLR74sbFU72D6Zdvn9m/dvIv1z31/3nvxO9/3r/m3iat04n65Ilp02iePXr++gsffqNrg9o+uLv/0gdfDq4Nr795+eXLnx3c3XdbbNpz+Mqd197+aDQgNNRKAHHqI05NyqRr1cW3zrTSdwu8cfrMX3/rkSW9Zvcs9sQT0CdPTJviufUuefzUuZc++LJJEtT+YVXhyKXb4eYCR1MoZW90Mz8RceojTr//+SldLbzb+9dO9oit1pr/cv1Ej2o5RSegJk9Mm3QmibaPnr8eM30ZSpyOnd3xzs8CauQeOri7f+zsTiIgVBtPAHHqI04X3zrjFSRr58fvnI73xMbm9sW32qdNn7/XR/M6mbH2hdXkiWlTUkfHTJgqYRhEnI6d3YkRwqrR8MarF24k5UPlrQQQpz7itLG5/cerJy0pcj8+2u02y2mt86+/PfHG6T6rha1xMLcCf/dP/za3Lo/Z38gJUyUPy4vTsMp0YO8B86cxA8bbFuLUU5xiZjnPb27FT55iZmNMm7xB3GMnv6zaA1rMKZ0mTEOJ0/FT55ZfzauMqTYOXbs3+JMaMQwpowggTj3FaWNzu/X+0PObW3/ei508tU6buNvEoM2cQNcJUyUDS86cXr78WVXVsBtHLt3OnPkam4c49RenmCfrnt/c+t3P2h/+jpk2xdSzxpFK13Im0G/CVAnJMuL02tsfVfWk2Hj9zcs5k19j2xCn/uK0sbn9+Xvtd55iZjyt06aut6/WOGTpWm4Elr/fs4w4ud+udSXq0LV7r164UcnM8VPnjp6/HnPigb0HL1/+LDfgM7EHcVpKnDY2t73flrUejgjfK4qZNsXfu5pJ4NLNTAgcP3Vu+WfkeovTsbM7rhRZew5fudN06+jVCzeswu7Hg7v7maCemxmI07Li9LuftX/nKfyU3f61lulXv69MzS2U6e8kBAZZVestToev3HHlRN/z4s7XYSwx39g9ev56uBKOpiCAOC0rThub2zEvjGh67dDH75y2plnux34vm0gRLtQJAYtAWJwO7u4fuXS79VG63uLUOmmrlvIss/WPh67d0/XM3T585Y5enu1xCCBOA4hTjMA0TZ5ahe2PV/nW7QA+Gmc4zbCVgDi99MGXShta7+70E6ej56+7QqLviRSVV979VD/L3T507d4MPTt5lxGnYRJfq8Y8v7n1h1/ZMtOqak2SNnncYAAEFAGvOL3w4Te63iQSp9Y1vcjluNffvOwKkrUnZgZGSAxLAHEaRpxiHmp4fnPLWqBrlbSmxcBhg4DaINCbgCVOB3f33Rf/JBKn8HJcpwcZwlUd2HsQqXO9MXKiSwBxGkacIl9opK/RMW1yw5E9K0dAf17u5cufeZ+LSyFOx0+dsyY31sfWRyF01K2TML6Nq+MaZxtxGkycIl9oVE2eWqdNfOt2nDFAK0sSeOXdT19599PAwlcKcbJmbJYyHdh70ElOWp/Zi7x9tSRJTtcJIE6DiVPkC43U12lbp00xX93VHTnb7a///W8XiwNJ//3v/x3651sbsyW8fMdTiFPrUwzu6mKgI61S12keFmiIQ/EEEKchxSnyhUYfv3O69au7y/yWbrz7V73kmbNbSWWpqvy//+fIqrOa0P4U4tQ619GfyGjtu7446U7CDuw9eOHDb1orocCwBBCnIcUp8oVGrb91y8uKIqN87zc/qPQj9UakSRRzCaQQp9Y6u/5goFeT9J1uv9iTlADiNLA4Rb7QyP2mrb6HlxVFBj3iFAlq2mKtQtJplqP60lpn1y7rOuTd7loh5ZckgDgNL04xLzTSpcja1p/oW9K7a3864rQSLm4Vkh7i1PpuiK5kvIKk7+xaIeWXJIA4DS9OkS80sjSp+lg9zreka+dwOuK0El5OIU66bHi3u5JJYWRXGyivE0CckohT68N4lRRZG+5bJHRvsW0RGDVTKpgAAAcxSURBVO2BiEf/+TdW03yMJ5Ai73sFSd8Zb54qmcLIrjZQXieAOCURp36TJ15WpIdm5PY4j5Lv/eYHkfZQzCWQIu/rOuTdds0I70lhZLhFjoYJIE6pxCnyhUb6zImXFYWDlaMrSiBF3vcKkr6zK6sURna1gfI6AcQplTj1eGyP7zbpocn22hBIkfd1HfJud6WXwsiuNlBeJ4A4pRKnHs/s8VYIPTTZXhsCKfK+V5D0nV3ppTCyqw2U1wkgTknEKfJVEfqantrmfXp6dLK9HgRS5H1dh7zbXdGlMLKrDZTXCSBOScTp9z9v/+12V5me39xi8qRHJ9vrQSBF3vcKkr6zK7oURna1gfI6AcRpeHHqPW1ScsVjEXqAsr0GBFLkfV2HvNtduaUwsqsNlNcJIE7Di9Mfr570zooid/JAuR6gbK8BgRR53ytI+s6u3FqN9P5UVddWKB9PAHEaWJx6PEHuihaTp/gIpmT+BFrzfo/XF+k65N3uiuWFD7/x1lPt7Foh5ZckgDgNLE6tPyH4h1+dbH0rufuD7ku6mdMhMCGBlRCnSoSaNiYEOM+mEachxan1rUVqye7z99rX/Xj9a+SAHOcNEfzYYKQ7vMVSiNPgdTZpktrPjw16PZt0J+I0pDi1Tpuq9brWHxtk8hQT96O9W48fG4xxR1OZwYVkY3N72DqPnzqHODW5b6r9iNNg4tT6rVv9SYfWws9vbvGTg62jgreStyLKocCwQqJ6dPjKnbCcDPsz7Ucu3c6B5KxsQJwGE6fWydDn753UY6u1/PObW/zqoE7M3UacXCYZ7kkhTq0/095JTl69cGNAqcvQBatoEuI0jDi1fuvW/XYtk6flBwzitDzDEWpIIU5Hz18Py0mnu0QvX/4sXFuP5wlHALveTSBOA4hTzLduve8lipk8eU9c76CM7x3iFM9qwpIpxOnY2Z2wnBzc3Y/v8qFr98K1xVdFyaEIIE4DiFOPaZPy342L7W85cqdcQ/l+DerhgYiVcGIKcdrY3A7LyYG9B8fO7sTwef3Ny+GqOk3CYlqkTAwBxGlZcYr51m1g9tP6gN/zm1uB02N8vN5lxnmUnB8bXCaKEolTa7UvX/4sxuzW21evvPtpTD2UGZYA4rSsOLW+rCg89Wn9atTzm1v6Y37Dup/aIDACgVYV6XdH55V3Pw3PeA7u7re+c+j4qXMHd/fD9bz+5uURKNGERQBxWkqcYqSl9ScEYyZP1RekLP/xEQL5E0gkTq3LcQf2HrROnl764MuwMr3w4Tf5E15LCxGnpcSpVVdivqsUo3BMntZy+M2kU4nEaWNzu/WFeAf2HgQW5Vq/LHVg70Gn70vNxKHjdBNx6i9OMaIS+UWlVpF7fnOLFxqNMyRoZXAC6cSp9ftJalb04s7Xr164Ua3Ovf7m5Vcv3Gh9Qu/A3oND1+4NToMKIwkgTv3FqfVB8Jhpk/LTL98+476b3N1z8a0zkX6lGARGI9D6JaHwuln46KFr98L3jWI0JtxE4CjTptGiyG0IceopTjFfoY2cNimvtD5Y8fzm1v414x0TrjvZA4HxCQSS+yCHAutyG5vbkZOnHpbwBPn4saS3iDj1EaeYb93GT5uUP2IeSeeFRnrssp0Dgdfe/qhH3u90yuErd8I9bV027NScKnxwd79aBgy3ztFEBBCnPuLU+q3b5ze3fvl25yW4mMlTV81LFDdUCwFFYARxap3BxDwO3lWf+j3dTlQMSABx6ixOMdOmfg8vMHkaMLKpahwCOYjTxub2sbM7rV9XitcnbjWNEzzhVhCnzuIU81OBvZ9ciJk89VO+cBxwFAL9CIwgTq3LesryY2d3Yp4sD0vUwd39yJce9cPFWfEEEKfO4tT62Pcy4nHxrTOtP+IefuVEvO8pCYFBCITT/fJHww9E6F04furcMo8OHr5yJ/xkoN4W26kJIE6dxenjd04/2j3hlZBHuyf+8KuTb5zufLdJd/ONi6f2r530Pqf+19+eeLR7ovWVE3ptbEMgNYFl9KBVulofJXd79/qblw9fuRO/yndwd//wlTs8/uCSnHYP4tRZnKZ1GK1DAAKRBI6ev37k0u0Xd752l/te+PCbF3e+PnLp9tHz1yNro9jIBBAnxAkCEIAABLIjgDhl55KRL09oDgIQgECGBBAnxAkCEIAABLIjgDhl55IML2EwCQIQgMDIBBAnxAkCEIAABLIjgDhl55KRL09oDgIQgECGBBAnxAkCEIAABLIjgDhl55IML2EwCQIQgMDIBBAnxAkCEIAABLIjgDhl55KRL09oDgIQgECGBBAnxAkCEIAABLIjgDhl55IML2EwCQIQgMDIBBAnxAkCEIAABLIjgDhl55KRL09oDgIQgECGBBAnxAkCEIAABLIjgDhl55IML2EwCQIQgMDIBBAnxAkCEIAABLIjgDhl55KRL09oDgIQgECGBBAnxAkCEIAABLIj8P9G0Mo0jNM2qAAAAABJRU5ErkJggg==)"
      ],
      "metadata": {
        "id": "-pV-_B2g6Bbp"
      }
    },
    {
      "cell_type": "markdown",
      "source": [
        "**### Rules of identifier**\n",
        "\n",
        "1. Identifier can’t by symbols(except “_”)\n",
        "2. Identifier can’t by numbers\n",
        "3. Identifier should be letters\n",
        "4. Identifier can’t starts with number (we can use at the end)\n",
        "5. Identifier between no space\n",
        "6. It is case sensitive\n",
        "\n",
        "Example:\n",
        "\n",
        "a=20\n",
        "\n",
        "here ‘a’ is identifier , ’20’ is value"
      ],
      "metadata": {
        "id": "BJfiDReS72jF"
      }
    },
    {
      "cell_type": "code",
      "execution_count": 1,
      "metadata": {
        "colab": {
          "base_uri": "https://localhost:8080/"
        },
        "id": "weFNajJk5nkb",
        "outputId": "d742f20d-f804-4f1b-c520-71ee1882a199"
      },
      "outputs": [
        {
          "output_type": "stream",
          "name": "stdout",
          "text": [
            "20\n"
          ]
        }
      ],
      "source": [
        "a=20\n",
        "\n",
        "print(a)"
      ]
    },
    {
      "cell_type": "code",
      "source": [],
      "metadata": {
        "id": "Ysm4tGoz8tRd"
      },
      "execution_count": null,
      "outputs": []
    }
  ]
}