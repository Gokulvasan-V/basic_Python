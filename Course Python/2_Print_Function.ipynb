{
  "nbformat": 4,
  "nbformat_minor": 0,
  "metadata": {
    "colab": {
      "provenance": [],
      "authorship_tag": "ABX9TyMuzmKDhgi+UInDlHMlVAoD",
      "include_colab_link": true
    },
    "kernelspec": {
      "name": "python3",
      "display_name": "Python 3"
    },
    "language_info": {
      "name": "python"
    }
  },
  "cells": [
    {
      "cell_type": "markdown",
      "metadata": {
        "id": "view-in-github",
        "colab_type": "text"
      },
      "source": [
        "<a href=\"https://colab.research.google.com/github/Gokulvasan-V/basic_Python/blob/master/Course%20Python/2_Print_Function.ipynb\" target=\"_parent\"><img src=\"https://colab.research.google.com/assets/colab-badge.svg\" alt=\"Open In Colab\"/></a>"
      ]
    },
    {
      "cell_type": "markdown",
      "source": [
        "**GitHub folder name : Course Python/**"
      ],
      "metadata": {
        "id": "BZ9xAJja-zkf"
      }
    },
    {
      "cell_type": "markdown",
      "source": [
        "## 1. **Printing Multiple Values**\n",
        "\n",
        "Python allows to print multiple value in single \"print\" function."
      ],
      "metadata": {
        "id": "CB4kOrEFPZ_J"
      }
    },
    {
      "cell_type": "code",
      "source": [
        "print(\"Gokul\", \"Kalpana\", \"Sasi\", \"Naveen\", \"Priya\")"
      ],
      "metadata": {
        "colab": {
          "base_uri": "https://localhost:8080/"
        },
        "id": "uv2OxTKNP9Ys",
        "outputId": "387eef84-f92c-46cf-d5e0-7d0c55247c5e"
      },
      "execution_count": 2,
      "outputs": [
        {
          "output_type": "stream",
          "name": "stdout",
          "text": [
            "Gokul Kalpana Sasi Naveen Priya\n"
          ]
        }
      ]
    },
    {
      "cell_type": "code",
      "source": [
        "print(\"Gokul\", \"Kalpana\", \"Sasi\", \"Naveen\", \"Priya\", 52,523,12.0,45.3,96.7)"
      ],
      "metadata": {
        "colab": {
          "base_uri": "https://localhost:8080/"
        },
        "id": "CgzvOFj9QIvX",
        "outputId": "e24d552e-d786-46e4-ee32-a58e1a86737c"
      },
      "execution_count": 3,
      "outputs": [
        {
          "output_type": "stream",
          "name": "stdout",
          "text": [
            "Gokul Kalpana Sasi Naveen Priya 52 523 12.0 45.3 96.7\n"
          ]
        }
      ]
    },
    {
      "cell_type": "code",
      "execution_count": 1,
      "metadata": {
        "colab": {
          "base_uri": "https://localhost:8080/"
        },
        "id": "OV_f59BONzOp",
        "outputId": "bd527d93-decf-4cd0-bad6-b09da8ec3e19"
      },
      "outputs": [
        {
          "output_type": "stream",
          "name": "stdout",
          "text": [
            "5 10 15 20\n"
          ]
        }
      ],
      "source": [
        "a = 5\n",
        "b = 10\n",
        "c = 15\n",
        "d = 20\n",
        "print(a,b,c,d)"
      ]
    },
    {
      "cell_type": "code",
      "source": [],
      "metadata": {
        "id": "O_yoxnAbPyKP"
      },
      "execution_count": null,
      "outputs": []
    },
    {
      "cell_type": "markdown",
      "source": [
        "## **2.Default Sep & End in Print**"
      ],
      "metadata": {
        "id": "n_UrFp7OQnjs"
      }
    },
    {
      "cell_type": "markdown",
      "source": [
        "### **Sep** --> Separator (In python, Every value as separate by space defaultly)\n",
        "\n",
        "\n",
        "\n",
        "```\n",
        "print(sep=\" \")\n",
        "```\n",
        "\n"
      ],
      "metadata": {
        "id": "B4x5ffufSojC"
      }
    },
    {
      "cell_type": "code",
      "source": [
        "print?"
      ],
      "metadata": {
        "id": "VOCdFR1xRxAl"
      },
      "execution_count": 5,
      "outputs": []
    },
    {
      "cell_type": "code",
      "source": [
        "print(\"Gokul\",\"Kalpana\",\"Sasi\",\"Naveen\",\"Priya\",52,523,12.0,45.3,96.7) # Defaultly each value Separate by Space"
      ],
      "metadata": {
        "colab": {
          "base_uri": "https://localhost:8080/"
        },
        "id": "yekj2pvORZBi",
        "outputId": "469c2111-b42f-41ea-cc73-bfd513437cec"
      },
      "execution_count": 4,
      "outputs": [
        {
          "output_type": "stream",
          "name": "stdout",
          "text": [
            "Gokul Kalpana Sasi Naveen Priya 52 523 12.0 45.3 96.7\n"
          ]
        }
      ]
    },
    {
      "cell_type": "code",
      "source": [
        "print(\"Gokul\",\"Kalpana\",\"Sasi\",\"Naveen\",\"Priya\",52,523,12.0,45.3,96.7, sep = \"\" ) # Without space\n",
        "print(\"Gokul\",\"Kalpana\",\"Sasi\",\"Naveen\",\"Priya\",52,523,12.0,45.3,96.7, sep = \",\" ) # comma\n",
        "print(\"Gokul\",\"Kalpana\",\"Sasi\",\"Naveen\",\"Priya\",52,523,12.0,45.3,96.7, sep = '#') # Hash\n",
        "print(\"Gokul\",\"Kalpana\",\"Sasi\",\"Naveen\",\"Priya\",52,523,12.0,45.3,96.7, sep = ' & ') # and\n",
        "print(\"Gokul\",\"Kalpana\",\"Sasi\",\"Naveen\",\"Priya\",52,523,12.0,45.3,96.7, sep = ' T ') # T (Letter)"
      ],
      "metadata": {
        "colab": {
          "base_uri": "https://localhost:8080/"
        },
        "id": "DFRseHUsRpqM",
        "outputId": "692a8716-3a0b-4efa-b584-fd4a6c2e96f7"
      },
      "execution_count": 10,
      "outputs": [
        {
          "output_type": "stream",
          "name": "stdout",
          "text": [
            "GokulKalpanaSasiNaveenPriya5252312.045.396.7\n",
            "Gokul#Kalpana#Sasi#Naveen#Priya#52#523#12.0#45.3#96.7\n",
            "Gokul & Kalpana & Sasi & Naveen & Priya & 52 & 523 & 12.0 & 45.3 & 96.7\n",
            "Gokul T Kalpana T Sasi T Naveen T Priya T 52 T 523 T 12.0 T 45.3 T 96.7\n"
          ]
        }
      ]
    },
    {
      "cell_type": "code",
      "source": [
        "print(\"Gokul\",\"Kalpana\",\"Sasi\",\"Naveen\",\"Priya\",52,523,12.0,45.3,96.7, sep = \"\\n\" ) # new line"
      ],
      "metadata": {
        "colab": {
          "base_uri": "https://localhost:8080/"
        },
        "id": "jM5VgchPR_h3",
        "outputId": "3442b6bc-fd39-46da-b37c-3abf83ee8fec"
      },
      "execution_count": 17,
      "outputs": [
        {
          "output_type": "stream",
          "name": "stdout",
          "text": [
            "Gokul\n",
            "Kalpana\n",
            "Sasi\n",
            "Naveen\n",
            "Priya\n",
            "52\n",
            "523\n",
            "12.0\n",
            "45.3\n",
            "96.7\n"
          ]
        }
      ]
    },
    {
      "cell_type": "code",
      "source": [],
      "metadata": {
        "id": "_RfgUt6LW3tb"
      },
      "execution_count": null,
      "outputs": []
    },
    {
      "cell_type": "markdown",
      "source": [
        "### **End**\n",
        "\n",
        "By default Python's **\"print()\"** function ends with a newline.\n",
        "\n",
        "\n",
        "\n",
        "```\n",
        "print(end=\"\\n\")\n",
        "```\n",
        "\n"
      ],
      "metadata": {
        "id": "DDNsyjkIStIS"
      }
    },
    {
      "cell_type": "code",
      "source": [
        "# Default end=\"\\n\" (new line)\n",
        "\n",
        "print(\"Hello\")\n",
        "print(\"World\")\n",
        "print(\"of\")\n",
        "print(\"Python\")"
      ],
      "metadata": {
        "colab": {
          "base_uri": "https://localhost:8080/"
        },
        "id": "4ye6GqXlTKXN",
        "outputId": "7a3e530e-c344-44c3-e0b4-4d63619f5d86"
      },
      "execution_count": 11,
      "outputs": [
        {
          "output_type": "stream",
          "name": "stdout",
          "text": [
            "Hello\n",
            "World\n",
            "of\n",
            "Python\n"
          ]
        }
      ]
    },
    {
      "cell_type": "code",
      "source": [
        "# Changing Default end in Print (by \" , \" (comma))\n",
        "\n",
        "print(\"Hello\", end= \" , \")\n",
        "print(\"World\", end= \" , \")\n",
        "print(\"of\", end= \" , \")\n",
        "print(\"Python\")"
      ],
      "metadata": {
        "colab": {
          "base_uri": "https://localhost:8080/"
        },
        "id": "i6AZlcKgV9nD",
        "outputId": "fd4610f4-e3e3-4bfc-99f0-e479f4d531c0"
      },
      "execution_count": 15,
      "outputs": [
        {
          "output_type": "stream",
          "name": "stdout",
          "text": [
            "Hello , World , of , Python\n"
          ]
        }
      ]
    },
    {
      "cell_type": "code",
      "source": [
        "# Changing Default end in Print (by \" \" (space))\n",
        "\n",
        "print(\"Hello\", end= \" \")\n",
        "print(\"World\", end= \" \")\n",
        "print(\"of\", end= \" \")\n",
        "print(\"Python\")"
      ],
      "metadata": {
        "colab": {
          "base_uri": "https://localhost:8080/"
        },
        "id": "zVwtTKY2TxyV",
        "outputId": "a59cd530-791d-4a89-ca0c-0d3774952d6b"
      },
      "execution_count": 12,
      "outputs": [
        {
          "output_type": "stream",
          "name": "stdout",
          "text": [
            "Hello World of Python\n"
          ]
        }
      ]
    },
    {
      "cell_type": "code",
      "source": [
        "# Changing Default end in Print (by # (Hash))\n",
        "\n",
        "print(\"Hello\", end= '#')\n",
        "print(\"World\", end= '#')\n",
        "print(\"of\", end= '#')\n",
        "print(\"Python\")"
      ],
      "metadata": {
        "colab": {
          "base_uri": "https://localhost:8080/"
        },
        "id": "2f26Pt1FUSag",
        "outputId": "1100703e-398e-498f-9b50-1eece3c0a4f4"
      },
      "execution_count": 13,
      "outputs": [
        {
          "output_type": "stream",
          "name": "stdout",
          "text": [
            "Hello#World#of#Python\n"
          ]
        }
      ]
    },
    {
      "cell_type": "code",
      "source": [
        "# Changing Default end in Print (by different symbol and letter)\n",
        "\n",
        "print(\"Hello\", end= ' % ')\n",
        "print(\"World\", end= ' $ ')\n",
        "print(\"of\", end= ' H ')\n",
        "print(\"Python\")"
      ],
      "metadata": {
        "colab": {
          "base_uri": "https://localhost:8080/"
        },
        "id": "fo_AUn8fUoiR",
        "outputId": "0e085194-3a93-47d3-f61e-4f27596dde68"
      },
      "execution_count": 14,
      "outputs": [
        {
          "output_type": "stream",
          "name": "stdout",
          "text": [
            "Hello # World $ of H Python\n"
          ]
        }
      ]
    },
    {
      "cell_type": "code",
      "source": [],
      "metadata": {
        "id": "rY8XxvqVU01k"
      },
      "execution_count": null,
      "outputs": []
    },
    {
      "cell_type": "markdown",
      "source": [
        "### **Sep & End at the same time**"
      ],
      "metadata": {
        "id": "v1PvPhPhYDGu"
      }
    },
    {
      "cell_type": "code",
      "source": [
        "# Default Result\n",
        "\n",
        "print(\"Hello\", \"Python\")\n",
        "print(\"Welcome\", \"Thank You\")\n",
        "print(\"How\", \"are\", \"you\")"
      ],
      "metadata": {
        "colab": {
          "base_uri": "https://localhost:8080/"
        },
        "id": "9UwKak6vYHmV",
        "outputId": "17406b02-dbdf-4f1e-a926-9faef186b782"
      },
      "execution_count": 24,
      "outputs": [
        {
          "output_type": "stream",
          "name": "stdout",
          "text": [
            "Hello Python\n",
            "Welcome Thank You\n",
            "How are you\n"
          ]
        }
      ]
    },
    {
      "cell_type": "code",
      "source": [
        "print(\"Hello\", \"Python\", sep= \" # \", end = \" \")\n",
        "print(\"Welcome\", \"Thank You\", sep= \"$\", end = \" \\n$b \")\n",
        "print(\"How\", \"are\", \"you\" , sep= \"\\n\", end = \"%\")"
      ],
      "metadata": {
        "colab": {
          "base_uri": "https://localhost:8080/"
        },
        "id": "zZZcIAfWYgsA",
        "outputId": "d268202a-e5b5-4b3f-c2e7-c9bbee680858"
      },
      "execution_count": 23,
      "outputs": [
        {
          "output_type": "stream",
          "name": "stdout",
          "text": [
            "Hello # Python Welcome$Thank You \n",
            "$b How\n",
            "are\n",
            "you%"
          ]
        }
      ]
    },
    {
      "cell_type": "code",
      "source": [],
      "metadata": {
        "id": "TNq_KgS8ZAzm"
      },
      "execution_count": null,
      "outputs": []
    }
  ]
}